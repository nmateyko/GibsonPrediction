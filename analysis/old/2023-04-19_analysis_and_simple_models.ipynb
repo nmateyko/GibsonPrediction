{
 "cells": [
  {
   "cell_type": "code",
   "execution_count": 1,
   "metadata": {},
   "outputs": [],
   "source": [
    "import matplotlib.pyplot as plt\n",
    "import numpy as np\n",
    "import pandas as pd\n",
    "import scipy.stats as stats\n",
    "import seaborn as sns\n",
    "from sklearn import preprocessing\n",
    "from tqdm import tqdm\n",
    "from itertools import product\n",
    "from sklearn.linear_model import LinearRegression\n",
    "from GibsonPrediction.modeling_utils import hash_split\n",
    "from GibsonPrediction.utils import get_fold_change\n",
    "\n",
    "%matplotlib inline"
   ]
  },
  {
   "cell_type": "code",
   "execution_count": 2,
   "metadata": {},
   "outputs": [],
   "source": [
    "# Parameters for plotting model results\n",
    "pd.set_option(\"display.max_colwidth\",100)\n",
    "sns.set(style=\"ticks\", color_codes=True)\n",
    "plt.rcParams['font.weight'] = 'normal'\n",
    "plt.rcParams['axes.labelweight'] = 'normal'\n",
    "plt.rcParams['axes.labelpad'] = 5\n",
    "plt.rcParams['axes.linewidth']= 2\n",
    "plt.rcParams['xtick.labelsize']= 14\n",
    "plt.rcParams['ytick.labelsize']= 14\n",
    "plt.rcParams['xtick.major.size'] = 6\n",
    "plt.rcParams['ytick.major.size'] = 6\n",
    "plt.rcParams['xtick.minor.size'] = 3\n",
    "plt.rcParams['ytick.minor.size'] = 3\n",
    "plt.rcParams['xtick.minor.width'] = 1\n",
    "plt.rcParams['ytick.minor.width'] = 1\n",
    "plt.rcParams['xtick.major.width'] = 2\n",
    "plt.rcParams['ytick.major.width'] = 2\n",
    "plt.rcParams['xtick.color'] = 'black'\n",
    "plt.rcParams['ytick.color'] = 'black'\n",
    "plt.rcParams['axes.labelcolor'] = 'black'\n",
    "plt.rcParams['axes.edgecolor'] = 'black'"
   ]
  },
  {
   "cell_type": "code",
   "execution_count": 3,
   "metadata": {},
   "outputs": [],
   "source": [
    "def kmer_encoding(n):\n",
    "  '''\n",
    "  Generate all k-mers of length N and assign a unique one-hot vector\n",
    "  of length 4 ** n to each k-mer.\n",
    "  \n",
    "  Returns a dictionary with k-mers as keys and one-hot vectors as values.\n",
    "  '''\n",
    "  encoding_dict = {}\n",
    "  for i, kmer in enumerate(product(['A', 'C', 'G', 'T'], repeat=n)):\n",
    "    encoding = [0] * 4 ** n\n",
    "    encoding[i] = 1\n",
    "    encoding_dict[\"\".join(kmer)] = encoding\n",
    "  return encoding_dict\n",
    "\n",
    "\n",
    "def kmer_featurize(seq, k, kmer_encoding_func):\n",
    "    '''\n",
    "    Generate one-hot encoded positional k-mer features for a DNA sequence.\n",
    "    '''\n",
    "    encoding = kmer_encoding_func(k)\n",
    "    features = []\n",
    "\n",
    "    for i in range(len(seq) - k + 1):\n",
    "        features.append(encoding[seq[i:i + k]])\n",
    "\n",
    "    return np.array(features).flatten()\n",
    "\n",
    "\n",
    "def one_hot_encode(seq):\n",
    "    '''\n",
    "    One-hot encode a DNA sequence\"\n",
    "    '''\n",
    "    seq = seq.upper()\n",
    "    if not set(seq) <= {'A', 'T', 'G', 'C'}:\n",
    "       raise ValueError(f\"Sequence contains non-ACTG character: {seq}\")\n",
    "    one_hot_dict = {'A': [1, 0, 0, 0], 'C': [0, 1, 0, 0], 'G': [0, 0, 1, 0], 'T': [0, 0, 0, 1]}\n",
    "    one_hot_seq = []\n",
    "    for nt in seq:\n",
    "        one_hot_seq.append(one_hot_dict[nt])\n",
    "    return np.array(one_hot_seq)\n",
    "\n",
    "def pearson_r2(x,y):\n",
    "    r_value, p_value = stats.pearsonr(x, y)\n",
    "    return r_value**2\n",
    "\n",
    "def valid_predict(train_df, valid_df, model, test_seq, obs_col, output_col='pred'):\n",
    "    '''Predict mean ribosome load using model and test set UTRs'''\n",
    "    \n",
    "    # Scale the test set mean ribosome load\n",
    "    scaler = preprocessing.StandardScaler()\n",
    "    scaler.fit(train_df[obs_col].values.reshape(-1,1))\n",
    "    \n",
    "    # Make predictions\n",
    "    predictions = model.predict(test_seq).reshape(-1,1)\n",
    "    \n",
    "    # Inverse scaled predicted mean ribosome load and return in a column labeled 'pred'\n",
    "    df_copy = valid_df.copy()\n",
    "    df_copy.loc[:,output_col] = scaler.inverse_transform(predictions)\n",
    "    return df_copy\n",
    "\n",
    "def evaluate_model(model, train_x, valid_x, train_df, valid_df):\n",
    "    print(f\"Train R-squared: {model.score(train_x, train_df['scaled_log2_FC'])}\")\n",
    "    valid = valid_predict(train_df=train_df, valid_df=valid_df, model=model, obs_col='log2_FC',test_seq=valid_x)\n",
    "    r = r2(valid_df['scaled_log2_FC'], valid['pred'])\n",
    "    print(f\"Validation R-squared: {r}\")\n",
    "    c1 = (0.3, 0.45, 0.69)\n",
    "    c2 = 'r'\n",
    "    g = sns.JointGrid(x='log2_FC', y=\"pred\", data=valid, space=0, xlim=(1,10), ylim=(0,10), ratio=6, height=7)\n",
    "    g.plot_joint(plt.scatter,s=20, color=c1, linewidth=0.2, alpha=0.1, edgecolor='white')\n",
    "    f = g.fig\n",
    "    ax = f.gca()\n",
    "    ax.set_yticks(np.arange(-3,3.01, 1))\n",
    "    # ax.set_yticklabels(range(-3, ),size=20)\n",
    "    ax.set_xticks(np.arange(-3,3.01, 1))\n",
    "    # ax.set_xticklabels(range(1,11),size=20)\n",
    "    ax.set_ylim(-3,3)\n",
    "    ax.set_xlim(-3,3)\n",
    "    g.plot_marginals(sns.kdeplot,shade=c1, **{'linewidth':2, 'color':c1})\n",
    "    g.set_axis_labels('Observed MRL', 'Predicted MRL', **{'size':22})\n",
    "\n",
    "    # g.x = n_atg['rl'].values\n",
    "    # g.y = n_atg['pred'].values\n",
    "    g.plot_joint(plt.scatter, s=20, linewidth=0.2, alpha=0.2, color=c2, edgecolor='white')\n",
    "    g.plot_marginals(sns.kdeplot, shade=c2, **{'linewidth':2, 'color':c2})\n",
    "    f = g.fig\n",
    "\n"
   ]
  },
  {
   "cell_type": "code",
   "execution_count": 4,
   "metadata": {},
   "outputs": [
    {
     "data": {
      "text/plain": [
       "array([[1, 0, 0, 0]])"
      ]
     },
     "execution_count": 4,
     "metadata": {},
     "output_type": "execute_result"
    }
   ],
   "source": [
    "one_hot_encode(\"A\")"
   ]
  },
  {
   "cell_type": "code",
   "execution_count": 5,
   "metadata": {},
   "outputs": [
    {
     "name": "stdout",
     "output_type": "stream",
     "text": [
      "Number of sequences: 590709\n",
      "                         sequence  input_count  assembled_count\n",
      "0  TATGCGCTAAATACGGCTTTGAGCGGCACA            4                1\n",
      "1  TGAGTTGGTGACGTGTGGTTGACGGGGGGA           63               57\n",
      "2  AGTGTGGCGGGTGGGGGTGCAGCGGGCTAG           60               45\n",
      "3  CGGCAACATCGAAGTGGAATATATGGAACG           15                8\n",
      "4  GTCAAATAAATTATTTGGCAACCAGTCCTT           17               24\n"
     ]
    }
   ],
   "source": [
    "df = pd.read_pickle(\"../data/20230414_pipeline_run/output/counts/PCR_large_rep1_count_df.pkl\")\n",
    "initial_count = len(df)\n",
    "print(f\"Number of sequences: {initial_count}\")\n",
    "print(df.head())"
   ]
  },
  {
   "attachments": {},
   "cell_type": "markdown",
   "metadata": {},
   "source": [
    "Only keep sequences with > 10 reads in the input or > 10 reads in assembled."
   ]
  },
  {
   "cell_type": "code",
   "execution_count": 6,
   "metadata": {},
   "outputs": [
    {
     "name": "stdout",
     "output_type": "stream",
     "text": [
      "247177 sequences removed due to low counts\n",
      "                         sequence  input_count  assembled_count\n",
      "1  TGAGTTGGTGACGTGTGGTTGACGGGGGGA           63               57\n",
      "2  AGTGTGGCGGGTGGGGGTGCAGCGGGCTAG           60               45\n",
      "3  CGGCAACATCGAAGTGGAATATATGGAACG           15                8\n",
      "4  GTCAAATAAATTATTTGGCAACCAGTCCTT           17               24\n",
      "8  GCACCCGCAGTCGCCTACCAAGGGTCGTCG           29               18\n"
     ]
    }
   ],
   "source": [
    "df = df[(df['input_count'] > 10) | (df['assembled_count'] > 10)]\n",
    "print(f\"{initial_count - len(df)} sequences removed due to low counts\")\n",
    "print(df.head())"
   ]
  },
  {
   "attachments": {},
   "cell_type": "markdown",
   "metadata": {},
   "source": [
    "Calculate log FC and one-hot encoding."
   ]
  },
  {
   "cell_type": "code",
   "execution_count": 7,
   "metadata": {},
   "outputs": [
    {
     "data": {
      "text/html": [
       "<div>\n",
       "<style scoped>\n",
       "    .dataframe tbody tr th:only-of-type {\n",
       "        vertical-align: middle;\n",
       "    }\n",
       "\n",
       "    .dataframe tbody tr th {\n",
       "        vertical-align: top;\n",
       "    }\n",
       "\n",
       "    .dataframe thead th {\n",
       "        text-align: right;\n",
       "    }\n",
       "</style>\n",
       "<table border=\"1\" class=\"dataframe\">\n",
       "  <thead>\n",
       "    <tr style=\"text-align: right;\">\n",
       "      <th></th>\n",
       "      <th>sequence</th>\n",
       "      <th>input_count</th>\n",
       "      <th>assembled_count</th>\n",
       "      <th>fold_change</th>\n",
       "      <th>log2_FC</th>\n",
       "      <th>one_hot_sequence</th>\n",
       "    </tr>\n",
       "  </thead>\n",
       "  <tbody>\n",
       "    <tr>\n",
       "      <th>1</th>\n",
       "      <td>TGAGTTGGTGACGTGTGGTTGACGGGGGGA</td>\n",
       "      <td>63</td>\n",
       "      <td>57</td>\n",
       "      <td>0.910950</td>\n",
       "      <td>-0.134556</td>\n",
       "      <td>[[0, 0, 0, 1], [0, 0, 1, 0], [1, 0, 0, 0], [0, 0, 1, 0], [0, 0, 0, 1], [0, 0, 0, 1], [0, 0, 1, 0...</td>\n",
       "    </tr>\n",
       "    <tr>\n",
       "      <th>2</th>\n",
       "      <td>AGTGTGGCGGGTGGGGGTGCAGCGGGCTAG</td>\n",
       "      <td>60</td>\n",
       "      <td>45</td>\n",
       "      <td>0.758009</td>\n",
       "      <td>-0.399713</td>\n",
       "      <td>[[1, 0, 0, 0], [0, 0, 1, 0], [0, 0, 0, 1], [0, 0, 1, 0], [0, 0, 0, 1], [0, 0, 1, 0], [0, 0, 1, 0...</td>\n",
       "    </tr>\n",
       "    <tr>\n",
       "      <th>3</th>\n",
       "      <td>CGGCAACATCGAAGTGGAATATATGGAACG</td>\n",
       "      <td>15</td>\n",
       "      <td>8</td>\n",
       "      <td>0.565417</td>\n",
       "      <td>-0.822612</td>\n",
       "      <td>[[0, 1, 0, 0], [0, 0, 1, 0], [0, 0, 1, 0], [0, 1, 0, 0], [1, 0, 0, 0], [1, 0, 0, 0], [0, 1, 0, 0...</td>\n",
       "    </tr>\n",
       "    <tr>\n",
       "      <th>4</th>\n",
       "      <td>GTCAAATAAATTATTTGGCAACCAGTCCTT</td>\n",
       "      <td>17</td>\n",
       "      <td>24</td>\n",
       "      <td>1.396092</td>\n",
       "      <td>0.481394</td>\n",
       "      <td>[[0, 0, 1, 0], [0, 0, 0, 1], [0, 1, 0, 0], [1, 0, 0, 0], [1, 0, 0, 0], [1, 0, 0, 0], [0, 0, 0, 1...</td>\n",
       "    </tr>\n",
       "    <tr>\n",
       "      <th>8</th>\n",
       "      <td>GCACCCGCAGTCGCCTACCAAGGGTCGTCG</td>\n",
       "      <td>29</td>\n",
       "      <td>18</td>\n",
       "      <td>0.636618</td>\n",
       "      <td>-0.651500</td>\n",
       "      <td>[[0, 0, 1, 0], [0, 1, 0, 0], [1, 0, 0, 0], [0, 1, 0, 0], [0, 1, 0, 0], [0, 1, 0, 0], [0, 0, 1, 0...</td>\n",
       "    </tr>\n",
       "  </tbody>\n",
       "</table>\n",
       "</div>"
      ],
      "text/plain": [
       "                         sequence  input_count  assembled_count  fold_change  \\\n",
       "1  TGAGTTGGTGACGTGTGGTTGACGGGGGGA           63               57     0.910950   \n",
       "2  AGTGTGGCGGGTGGGGGTGCAGCGGGCTAG           60               45     0.758009   \n",
       "3  CGGCAACATCGAAGTGGAATATATGGAACG           15                8     0.565417   \n",
       "4  GTCAAATAAATTATTTGGCAACCAGTCCTT           17               24     1.396092   \n",
       "8  GCACCCGCAGTCGCCTACCAAGGGTCGTCG           29               18     0.636618   \n",
       "\n",
       "    log2_FC  \\\n",
       "1 -0.134556   \n",
       "2 -0.399713   \n",
       "3 -0.822612   \n",
       "4  0.481394   \n",
       "8 -0.651500   \n",
       "\n",
       "                                                                                      one_hot_sequence  \n",
       "1  [[0, 0, 0, 1], [0, 0, 1, 0], [1, 0, 0, 0], [0, 0, 1, 0], [0, 0, 0, 1], [0, 0, 0, 1], [0, 0, 1, 0...  \n",
       "2  [[1, 0, 0, 0], [0, 0, 1, 0], [0, 0, 0, 1], [0, 0, 1, 0], [0, 0, 0, 1], [0, 0, 1, 0], [0, 0, 1, 0...  \n",
       "3  [[0, 1, 0, 0], [0, 0, 1, 0], [0, 0, 1, 0], [0, 1, 0, 0], [1, 0, 0, 0], [1, 0, 0, 0], [0, 1, 0, 0...  \n",
       "4  [[0, 0, 1, 0], [0, 0, 0, 1], [0, 1, 0, 0], [1, 0, 0, 0], [1, 0, 0, 0], [1, 0, 0, 0], [0, 0, 0, 1...  \n",
       "8  [[0, 0, 1, 0], [0, 1, 0, 0], [1, 0, 0, 0], [0, 1, 0, 0], [0, 1, 0, 0], [0, 1, 0, 0], [0, 0, 1, 0...  "
      ]
     },
     "execution_count": 7,
     "metadata": {},
     "output_type": "execute_result"
    }
   ],
   "source": [
    "df['fold_change'] = get_fold_change(df, 1, 1)\n",
    "df['log2_FC'] = np.log2(df['fold_change'])\n",
    "df['one_hot_sequence'] = df['sequence'].apply(one_hot_encode)\n",
    "df.head()"
   ]
  },
  {
   "cell_type": "code",
   "execution_count": 8,
   "metadata": {},
   "outputs": [
    {
     "ename": "TypeError",
     "evalue": "Value after * must be an iterable, not function",
     "output_type": "error",
     "traceback": [
      "\u001b[1;31m---------------------------------------------------------------------------\u001b[0m",
      "\u001b[1;31mTypeError\u001b[0m                                 Traceback (most recent call last)",
      "\u001b[1;32mc:\\Users\\nmateyko\\drylab\\GibsonPrediction\\analysis\\2023-04-19_analysis_and_simple_models.ipynb Cell 10\u001b[0m in \u001b[0;36m1\n\u001b[1;32m----> <a href='vscode-notebook-cell:/c%3A/Users/nmateyko/drylab/GibsonPrediction/analysis/2023-04-19_analysis_and_simple_models.ipynb#X25sZmlsZQ%3D%3D?line=0'>1</a>\u001b[0m df[\u001b[39m'\u001b[39m\u001b[39m3mer_features\u001b[39m\u001b[39m'\u001b[39m] \u001b[39m=\u001b[39m df[\u001b[39m'\u001b[39;49m\u001b[39msequence\u001b[39;49m\u001b[39m'\u001b[39;49m]\u001b[39m.\u001b[39;49mapply(kmer_featurize, \u001b[39m3\u001b[39;49m, kmer_encoding)\n",
      "File \u001b[1;32mc:\\Users\\nmateyko\\.venv\\gibspred\\lib\\site-packages\\pandas\\core\\series.py:4771\u001b[0m, in \u001b[0;36mSeries.apply\u001b[1;34m(self, func, convert_dtype, args, **kwargs)\u001b[0m\n\u001b[0;32m   4661\u001b[0m \u001b[39mdef\u001b[39;00m \u001b[39mapply\u001b[39m(\n\u001b[0;32m   4662\u001b[0m     \u001b[39mself\u001b[39m,\n\u001b[0;32m   4663\u001b[0m     func: AggFuncType,\n\u001b[1;32m   (...)\u001b[0m\n\u001b[0;32m   4666\u001b[0m     \u001b[39m*\u001b[39m\u001b[39m*\u001b[39mkwargs,\n\u001b[0;32m   4667\u001b[0m ) \u001b[39m-\u001b[39m\u001b[39m>\u001b[39m DataFrame \u001b[39m|\u001b[39m Series:\n\u001b[0;32m   4668\u001b[0m     \u001b[39m\"\"\"\u001b[39;00m\n\u001b[0;32m   4669\u001b[0m \u001b[39m    Invoke function on values of Series.\u001b[39;00m\n\u001b[0;32m   4670\u001b[0m \n\u001b[1;32m   (...)\u001b[0m\n\u001b[0;32m   4769\u001b[0m \u001b[39m    dtype: float64\u001b[39;00m\n\u001b[0;32m   4770\u001b[0m \u001b[39m    \"\"\"\u001b[39;00m\n\u001b[1;32m-> 4771\u001b[0m     \u001b[39mreturn\u001b[39;00m SeriesApply(\u001b[39mself\u001b[39;49m, func, convert_dtype, args, kwargs)\u001b[39m.\u001b[39;49mapply()\n",
      "File \u001b[1;32mc:\\Users\\nmateyko\\.venv\\gibspred\\lib\\site-packages\\pandas\\core\\apply.py:1105\u001b[0m, in \u001b[0;36mSeriesApply.apply\u001b[1;34m(self)\u001b[0m\n\u001b[0;32m   1102\u001b[0m     \u001b[39mreturn\u001b[39;00m \u001b[39mself\u001b[39m\u001b[39m.\u001b[39mapply_str()\n\u001b[0;32m   1104\u001b[0m \u001b[39m# self.f is Callable\u001b[39;00m\n\u001b[1;32m-> 1105\u001b[0m \u001b[39mreturn\u001b[39;00m \u001b[39mself\u001b[39;49m\u001b[39m.\u001b[39;49mapply_standard()\n",
      "File \u001b[1;32mc:\\Users\\nmateyko\\.venv\\gibspred\\lib\\site-packages\\pandas\\core\\apply.py:1156\u001b[0m, in \u001b[0;36mSeriesApply.apply_standard\u001b[1;34m(self)\u001b[0m\n\u001b[0;32m   1154\u001b[0m     \u001b[39melse\u001b[39;00m:\n\u001b[0;32m   1155\u001b[0m         values \u001b[39m=\u001b[39m obj\u001b[39m.\u001b[39mastype(\u001b[39mobject\u001b[39m)\u001b[39m.\u001b[39m_values\n\u001b[1;32m-> 1156\u001b[0m         mapped \u001b[39m=\u001b[39m lib\u001b[39m.\u001b[39;49mmap_infer(\n\u001b[0;32m   1157\u001b[0m             values,\n\u001b[0;32m   1158\u001b[0m             f,\n\u001b[0;32m   1159\u001b[0m             convert\u001b[39m=\u001b[39;49m\u001b[39mself\u001b[39;49m\u001b[39m.\u001b[39;49mconvert_dtype,\n\u001b[0;32m   1160\u001b[0m         )\n\u001b[0;32m   1162\u001b[0m \u001b[39mif\u001b[39;00m \u001b[39mlen\u001b[39m(mapped) \u001b[39mand\u001b[39;00m \u001b[39misinstance\u001b[39m(mapped[\u001b[39m0\u001b[39m], ABCSeries):\n\u001b[0;32m   1163\u001b[0m     \u001b[39m# GH#43986 Need to do list(mapped) in order to get treated as nested\u001b[39;00m\n\u001b[0;32m   1164\u001b[0m     \u001b[39m#  See also GH#25959 regarding EA support\u001b[39;00m\n\u001b[0;32m   1165\u001b[0m     \u001b[39mreturn\u001b[39;00m obj\u001b[39m.\u001b[39m_constructor_expanddim(\u001b[39mlist\u001b[39m(mapped), index\u001b[39m=\u001b[39mobj\u001b[39m.\u001b[39mindex)\n",
      "File \u001b[1;32mc:\\Users\\nmateyko\\.venv\\gibspred\\lib\\site-packages\\pandas\\_libs\\lib.pyx:2918\u001b[0m, in \u001b[0;36mpandas._libs.lib.map_infer\u001b[1;34m()\u001b[0m\n",
      "File \u001b[1;32mc:\\Users\\nmateyko\\.venv\\gibspred\\lib\\site-packages\\pandas\\core\\apply.py:139\u001b[0m, in \u001b[0;36mApply.__init__.<locals>.f\u001b[1;34m(x)\u001b[0m\n\u001b[0;32m    138\u001b[0m \u001b[39mdef\u001b[39;00m \u001b[39mf\u001b[39m(x):\n\u001b[1;32m--> 139\u001b[0m     \u001b[39mreturn\u001b[39;00m func(x, \u001b[39m*\u001b[39margs, \u001b[39m*\u001b[39m\u001b[39m*\u001b[39mkwargs)\n",
      "\u001b[1;31mTypeError\u001b[0m: Value after * must be an iterable, not function"
     ]
    }
   ],
   "source": [
    "df['3mer_features'] = df['sequence'].apply(kmer_featurize, 3, kmer_encoding)"
   ]
  },
  {
   "cell_type": "code",
   "execution_count": 25,
   "metadata": {},
   "outputs": [
    {
     "name": "stdout",
     "output_type": "stream",
     "text": [
      "3\n",
      "concatenated shape: (12,)\n",
      "index shape: ()\n",
      "16777216\n"
     ]
    }
   ],
   "source": [
    "import numpy as np\n",
    "\n",
    "# example input array\n",
    "arr = np.array([[1, 0, 0, 0], [1, 0, 0, 0], [1, 0, 0, 0], [1, 0, 0, 0]])\n",
    "\n",
    "# function to convert a k-mer to one-hot encoding\n",
    "def kmer_to_one_hot(kmer):\n",
    "    print(len(kmer))\n",
    "    concatenated = kmer.flatten()\n",
    "    print(f\"concatenated shape: {concatenated.shape}\")\n",
    "    index = concatenated.dot(4**np.arange(4*len(kmer) - 1, -1, -1))\n",
    "    print(f\"index shape: {index.shape}\")\n",
    "    result = np.zeros(4**(len(kmer) * 4))\n",
    "    result[index] = 1\n",
    "    return result\n",
    "\n",
    "# example usage\n",
    "kmer = arr[1:4]  # [1,0,0,0], [0,0,0,1], [0,0,1,0]\n",
    "result = kmer_to_one_hot(kmer)\n",
    "print(len(result))"
   ]
  },
  {
   "cell_type": "code",
   "execution_count": 19,
   "metadata": {},
   "outputs": [
    {
     "data": {
      "text/plain": [
       "(12,)"
      ]
     },
     "execution_count": 19,
     "metadata": {},
     "output_type": "execute_result"
    }
   ],
   "source": [
    "(4**np.arange(3*4 - 1, -1, -1)).shape"
   ]
  },
  {
   "attachments": {},
   "cell_type": "markdown",
   "metadata": {},
   "source": [
    "Split into train, validation, and test sets."
   ]
  },
  {
   "cell_type": "code",
   "execution_count": null,
   "metadata": {},
   "outputs": [],
   "source": [
    "train_df, val_df, test_df = hash_split(df, split_col='sequence', percentages=(80, 10, 10))\n",
    "print(train_df.head())\n",
    "split_sizes = [len(i) for i in (train_df, val_df, test_df)]\n",
    "print(split_sizes)\n",
    "assert sum(split_sizes) == len(df)"
   ]
  },
  {
   "cell_type": "code",
   "execution_count": null,
   "metadata": {},
   "outputs": [],
   "source": [
    "scaler = preprocessing.StandardScaler()\n",
    "scaler.fit(train_df['log2_FC'].values.reshape(-1,1))\n",
    "for split_df in [train_df, val_df, test_df]:\n",
    "    split_df['scaled_log2_FC'] = scaler.transform(split_df['log2_FC'].values.reshape(-1,1))\n",
    "print(train_df.head())"
   ]
  },
  {
   "cell_type": "code",
   "execution_count": null,
   "metadata": {},
   "outputs": [],
   "source": [
    "print(train_df['one_hot_sequence'].values)\n",
    "print(val_df['one_hot_sequence'].values.shape)\n",
    "\n",
    "# train_one_hot = train_one_hot.reshape(471961, 120)\n",
    "# val_one_hot = val_one_hot.reshape(59400, 120)"
   ]
  },
  {
   "cell_type": "code",
   "execution_count": null,
   "metadata": {},
   "outputs": [],
   "source": [
    "reg = LinearRegression().fit(train_one_hot, train_df['scaled_log2_FC'])"
   ]
  },
  {
   "cell_type": "code",
   "execution_count": null,
   "metadata": {},
   "outputs": [],
   "source": [
    "evaluate_model(model=reg, train_x=train_one_hot, valid_x=val_one_hot, train_df=train_df, valid_df=val_df)"
   ]
  },
  {
   "cell_type": "code",
   "execution_count": null,
   "metadata": {},
   "outputs": [],
   "source": [
    "train_dinuc = featurize(train_df, 2, col=\"sequence\")\n",
    "val_dinuc = featurize(val_df, 2, col=\"sequence\")\n",
    "\n",
    "train_trinuc = featurize(train_df, 3, col=\"sequence\")\n",
    "val_trinuc = featurize(val_df, 3, col=\"sequence\")\n",
    "print(len(train_dinuc[0]) * len(train_dinuc[0][0]))\n",
    "print(len(train_trinuc[0]) * len(train_trinuc[0][0]))"
   ]
  },
  {
   "cell_type": "code",
   "execution_count": null,
   "metadata": {},
   "outputs": [],
   "source": [
    "train_dinuc = train_dinuc.reshape(471961, 464)\n",
    "val_dinuc = val_dinuc.reshape(59400, 464)\n",
    "train_trinuc = train_trinuc.reshape(471961, 1792)\n",
    "val_trinuc = val_trinuc.reshape(59400, 1792)"
   ]
  },
  {
   "cell_type": "code",
   "execution_count": null,
   "metadata": {},
   "outputs": [],
   "source": [
    "reg = LinearRegression().fit(train_trinuc, train_df['scaled_log2_FC'])"
   ]
  },
  {
   "cell_type": "code",
   "execution_count": null,
   "metadata": {},
   "outputs": [],
   "source": [
    "evaluate_model(model=reg, train_x=train_trinuc, valid_x=val_trinuc, train_df=train_df, valid_df=val_df)"
   ]
  }
 ],
 "metadata": {
  "kernelspec": {
   "display_name": "Python (gibspred)",
   "language": "python",
   "name": "gibspred"
  },
  "language_info": {
   "codemirror_mode": {
    "name": "ipython",
    "version": 3
   },
   "file_extension": ".py",
   "mimetype": "text/x-python",
   "name": "python",
   "nbconvert_exporter": "python",
   "pygments_lexer": "ipython3",
   "version": "3.10.4"
  },
  "orig_nbformat": 4
 },
 "nbformat": 4,
 "nbformat_minor": 2
}
