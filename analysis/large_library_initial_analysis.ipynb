{
 "cells": [
  {
   "cell_type": "code",
   "execution_count": null,
   "metadata": {},
   "outputs": [],
   "source": [
    "import numpy as np\n",
    "import pandas as pd\n",
    "import scipy\n",
    "import matplotlib.pyplot as plt"
   ]
  },
  {
   "cell_type": "markdown",
   "metadata": {},
   "source": [
    "Load data"
   ]
  },
  {
   "cell_type": "code",
   "execution_count": null,
   "metadata": {},
   "outputs": [],
   "source": [
    "input_1 = np.load('../data/counts/large_libs_directional_clust_t3/GP_PCR_2_counts.npy')\n",
    "input_2 = np.load('../data/counts/large_libs_directional_clust_t3/GP_PCR_4_counts.npy')\n",
    "assembled_1 = np.load('../data/counts/large_libs_directional_clust_t3/GP_PCR_6_counts.npy')\n",
    "assembled_2 = np.load('../data/counts/large_libs_directional_clust_t3/GP_PCR_8_counts.npy')\n",
    "\n",
    "rep1_encoded = [input_1, assembled_1]\n",
    "rep2_encoded = [input_2, assembled_2]\n",
    "\n",
    "rep1_labels = ['input_1', 'assembled_1']\n",
    "rep2_labels = ['input_2', 'assembled_2']"
   ]
  },
  {
   "cell_type": "markdown",
   "metadata": {},
   "source": [
    "Check distributions of counts"
   ]
  },
  {
   "cell_type": "code",
   "execution_count": null,
   "metadata": {},
   "outputs": [],
   "source": [
    "rep1_counts = [[int(obs[1].decode()) for obs in sample] for sample in rep1_encoded]\n",
    "for sample in rep1_counts:\n",
    "  plt.hist(sample, bins=range(200))\n",
    "  plt.show()\n",
    "\n",
    "rep2_counts = [[int(obs[1].decode()) for obs in sample] for sample in rep2_encoded]\n",
    "for sample in rep2_counts:\n",
    "  plt.hist(sample, bins=range(200))\n",
    "  plt.show()"
   ]
  },
  {
   "cell_type": "markdown",
   "metadata": {},
   "source": [
    "Convert data to dict with sequences as keys and counts of the sequence as values."
   ]
  },
  {
   "cell_type": "code",
   "execution_count": null,
   "metadata": {},
   "outputs": [],
   "source": [
    "def make_seq_dict(samples):\n",
    "  seq_counts = []\n",
    "  for sample in samples:\n",
    "    decoded_sample = {}\n",
    "    for obs in sample:\n",
    "      decoded_seq = obs[0].decode()\n",
    "      decoded_count = int(obs[1].decode())\n",
    "      if len(decoded_seq) == 30:\n",
    "        decoded_seq = decoded_seq[1:-1]\n",
    "      decoded_sample[decoded_seq] = decoded_count\n",
    "    seq_counts.append(decoded_sample)\n",
    "  return seq_counts\n",
    "\n",
    "\n",
    "rep1 = make_seq_dict(rep1_encoded)\n",
    "rep2 = make_seq_dict(rep2_encoded)"
   ]
  },
  {
   "cell_type": "markdown",
   "metadata": {},
   "source": [
    "Find sequences that are common to all samples."
   ]
  },
  {
   "cell_type": "code",
   "execution_count": null,
   "metadata": {},
   "outputs": [],
   "source": [
    "def get_common_seqs(rep):\n",
    "  rep_seqs = []\n",
    "  for sample in rep:\n",
    "    rep_seqs.append(set(seq for seq in sample))\n",
    "    print(len(sample))\n",
    "  unique_seqs = set.intersection(*rep_seqs)\n",
    "  return unique_seqs\n",
    "\n",
    "common = get_common_seqs(rep1)\n",
    "print(len(common))"
   ]
  },
  {
   "cell_type": "code",
   "execution_count": null,
   "metadata": {},
   "outputs": [],
   "source": [
    "removed = set(seq for seq in rep1[0]).difference(common)\n",
    "removed_counts = []\n",
    "for seq in removed:\n",
    "  removed_counts.append((seq, int(rep1[0][seq])))\n",
    "\n",
    "removed_sorted = sorted(removed_counts, key=lambda x: x[1], reverse=True)\n",
    "print(removed_sorted[:20])"
   ]
  },
  {
   "cell_type": "markdown",
   "metadata": {},
   "source": [
    "Make a list of counts for each common sequence for each sample."
   ]
  },
  {
   "cell_type": "code",
   "execution_count": null,
   "metadata": {},
   "outputs": [],
   "source": [
    "rep1_counts = [[], []]\n",
    "for seq in common:\n",
    "  if bool(sum(1 if sample[seq] > 20 else 0 for sample in rep1)):\n",
    "    for i, sample in enumerate(rep1):\n",
    "      rep1_counts[i].append(rep1[i][seq])\n",
    "\n",
    "len(rep1_counts[0])"
   ]
  },
  {
   "cell_type": "markdown",
   "metadata": {},
   "source": [
    "Make dataframe containing sequences and their corresponding counts for each sample."
   ]
  },
  {
   "cell_type": "code",
   "execution_count": null,
   "metadata": {},
   "outputs": [],
   "source": [
    "data = zip(common, *rep1_counts)\n",
    "df = pd.DataFrame(data, columns= ['Sequence'] + rep1_labels)"
   ]
  },
  {
   "cell_type": "markdown",
   "metadata": {},
   "source": [
    "Calculate fractional counts to normalize for number of reads present in the sample."
   ]
  },
  {
   "cell_type": "code",
   "execution_count": null,
   "metadata": {},
   "outputs": [],
   "source": [
    "def add_fractions(samples):\n",
    "  for sample in samples:\n",
    "    df[f'{sample}_fraction'] = df[sample] / sum(df[sample])\n",
    "\n",
    "add_fractions(rep1_labels)"
   ]
  },
  {
   "cell_type": "code",
   "execution_count": null,
   "metadata": {},
   "outputs": [],
   "source": [
    "def add_CPM(samples):\n",
    "  for sample in samples:\n",
    "    df[f'{sample}_CPM'] = (df[sample] * 1_000_000) / sum(df[sample])\n",
    "\n",
    "add_CPM(rep1_labels)"
   ]
  },
  {
   "cell_type": "markdown",
   "metadata": {},
   "source": [
    "Calculate gibson assembly efficiency for each library preparation method."
   ]
  },
  {
   "cell_type": "code",
   "execution_count": null,
   "metadata": {},
   "outputs": [],
   "source": [
    "df['efficiency'] = df['assembled_1_CPM'] / df['input_1_CPM']\n",
    "df['logFC'] = np.log2(df['efficiency'])"
   ]
  },
  {
   "cell_type": "code",
   "execution_count": null,
   "metadata": {},
   "outputs": [],
   "source": [
    "df['efficiency'].hist(bins=300)\n",
    "plt.xlim([0,4])\n",
    "plt.xlabel('fold change')\n",
    "plt.ylabel('count')\n",
    "plt.grid(None)\n",
    "plt.savefig(f\"fc.svg\")"
   ]
  },
  {
   "cell_type": "code",
   "execution_count": null,
   "metadata": {},
   "outputs": [],
   "source": [
    "df['logFC'].hist(bins=150)\n",
    "plt.xlim([-2,2])\n",
    "plt.xlabel('log2(FC)')\n",
    "plt.ylabel('count')\n",
    "plt.grid(None)\n",
    "plt.savefig(f\"logfc.svg\")"
   ]
  },
  {
   "cell_type": "code",
   "execution_count": null,
   "metadata": {},
   "outputs": [],
   "source": [
    "def GC(seq):\n",
    "  return sum([base in {'G', 'C'} for base in seq]) / len(seq)"
   ]
  },
  {
   "cell_type": "code",
   "execution_count": null,
   "metadata": {},
   "outputs": [],
   "source": [
    "df['GC'] = df['Sequence'].apply(GC)\n",
    "df['GC'][:10]"
   ]
  },
  {
   "cell_type": "code",
   "execution_count": null,
   "metadata": {},
   "outputs": [],
   "source": [
    "df.plot.scatter(x='GC', y='logFC')"
   ]
  },
  {
   "cell_type": "code",
   "execution_count": null,
   "metadata": {},
   "outputs": [],
   "source": [
    "df['logFC'].corr(df['GC'])"
   ]
  },
  {
   "cell_type": "code",
   "execution_count": null,
   "metadata": {},
   "outputs": [],
   "source": [
    "df_outliers = df.loc[df['logFC'] < -7]"
   ]
  },
  {
   "cell_type": "code",
   "execution_count": null,
   "metadata": {},
   "outputs": [],
   "source": [
    "df_outliers[['Sequence', 'logFC', 'input_1', 'assembled_1']]"
   ]
  }
 ],
 "metadata": {
  "kernelspec": {
   "display_name": "Python 3 (ipykernel)",
   "language": "python",
   "name": "python3"
  },
  "language_info": {
   "codemirror_mode": {
    "name": "ipython",
    "version": 3
   },
   "file_extension": ".py",
   "mimetype": "text/x-python",
   "name": "python",
   "nbconvert_exporter": "python",
   "pygments_lexer": "ipython3",
   "version": "3.10.4"
  },
  "orig_nbformat": 4,
  "vscode": {
   "interpreter": {
    "hash": "fa7c27dc793df5be2edaadabdf154ce9b78714d52aa15f6b4e8ee8c3cd646d7f"
   }
  }
 },
 "nbformat": 4,
 "nbformat_minor": 2
}
