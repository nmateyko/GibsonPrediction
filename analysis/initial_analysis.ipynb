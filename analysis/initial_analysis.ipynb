{
 "cells": [
  {
   "cell_type": "code",
   "execution_count": null,
   "metadata": {},
   "outputs": [],
   "source": [
    "import numpy as np\n",
    "import pandas as pd\n",
    "import scipy\n",
    "import matplotlib.pyplot as plt"
   ]
  },
  {
   "cell_type": "markdown",
   "metadata": {},
   "source": [
    "Load data"
   ]
  },
  {
   "cell_type": "code",
   "execution_count": null,
   "metadata": {},
   "outputs": [],
   "source": [
    "small_input_PCR_1 = np.load('../data/counts/small_libs_directional_clust_t3/GP_PCR_1_counts.npy')\n",
    "small_input_PCR_2 = np.load('../data/counts/small_libs_directional_clust_t3/GP_PCR_3_counts.npy')\n",
    "small_assembled_PCR_1 = np.load('../data/counts/small_libs_directional_clust_t3/GP_PCR_5_counts.npy')\n",
    "small_assembled_PCR_2 = np.load('../data/counts/small_libs_directional_clust_t3/GP_PCR_7_counts.npy')\n",
    "small_input_LIG_1 = np.load('../data/counts/small_libs_directional_clust_t3/GP_LIG_1_counts.npy')\n",
    "small_input_LIG_2 = np.load('../data/counts/small_libs_directional_clust_t3/GP_LIG_5_counts.npy')\n",
    "small_assembled_LIG_1 = np.load('../data/counts/small_libs_directional_clust_t3/GP_LIG_3_counts.npy')\n",
    "small_assembled_LIG_2 = np.load('../data/counts/small_libs_directional_clust_t3/GP_LIG_7_counts.npy')\n",
    "\n",
    "rep1_encoded = [small_input_PCR_1, small_assembled_PCR_1, small_input_LIG_1, small_assembled_LIG_1]\n",
    "rep2_encoded = [small_input_PCR_2, small_assembled_PCR_2, small_input_LIG_2, small_assembled_LIG_2]\n",
    "\n",
    "rep1_labels = ['small_input_PCR_1', 'small_assembled_PCR_1', 'small_input_LIG_1', 'small_assembled_LIG_1']\n",
    "rep2_labels = ['small_input_PCR_2', 'small_assembled_PCR_2', 'small_input_LIG_2', 'small_assembled_LIG_2']"
   ]
  },
  {
   "cell_type": "markdown",
   "metadata": {},
   "source": [
    "Check distributions of counts"
   ]
  },
  {
   "cell_type": "code",
   "execution_count": null,
   "metadata": {},
   "outputs": [],
   "source": [
    "rep1_counts = [[int(obs[1].decode()) for obs in sample] for sample in rep1_encoded]\n",
    "for sample in rep1_counts:\n",
    "  plt.hist(sample, bins=range(300))\n",
    "  plt.show()"
   ]
  },
  {
   "cell_type": "markdown",
   "metadata": {},
   "source": [
    "Convert data to dict with sequences as keys and counts of the sequence as values."
   ]
  },
  {
   "cell_type": "code",
   "execution_count": null,
   "metadata": {},
   "outputs": [],
   "source": [
    "def make_seq_dict(samples, min_count=0):\n",
    "  seq_counts = []\n",
    "  for sample in samples:\n",
    "    decoded_sample = {}\n",
    "    for obs in sample:\n",
    "      decoded_seq = obs[0].decode()\n",
    "      decoded_count = int(obs[1].decode())\n",
    "      if len(decoded_seq) == 30:\n",
    "        decoded_seq = decoded_seq[1:-1]\n",
    "      if decoded_count >= min_count:\n",
    "        decoded_sample[decoded_seq] = decoded_count\n",
    "    seq_counts.append(decoded_sample)\n",
    "  return seq_counts\n",
    "\n",
    "\n",
    "rep1 = make_seq_dict(rep1_encoded)\n",
    "rep2 = make_seq_dict(rep2_encoded)"
   ]
  },
  {
   "cell_type": "markdown",
   "metadata": {},
   "source": [
    "Find sequences that are common to all samples."
   ]
  },
  {
   "cell_type": "code",
   "execution_count": null,
   "metadata": {},
   "outputs": [],
   "source": [
    "def get_common_seqs(rep):\n",
    "  rep_seqs = []\n",
    "  for sample in rep:\n",
    "    rep_seqs.append(set(seq for seq in sample))\n",
    "    print(len(sample))\n",
    "  unique_seqs = set.intersection(*rep_seqs)\n",
    "  return unique_seqs\n",
    "\n",
    "common = get_common_seqs(rep1)\n",
    "print(len(common))"
   ]
  },
  {
   "cell_type": "markdown",
   "metadata": {},
   "source": [
    "Make a list of counts for each common sequence for each sample."
   ]
  },
  {
   "cell_type": "code",
   "execution_count": null,
   "metadata": {},
   "outputs": [],
   "source": [
    "rep1_counts = [[], [], [], []]\n",
    "for seq in common:\n",
    "  for i, sample in enumerate(rep1):\n",
    "    rep1_counts[i].append(rep1[i][seq])"
   ]
  },
  {
   "cell_type": "markdown",
   "metadata": {},
   "source": [
    "Make dataframe containing sequences and their corresponding counts for each sample."
   ]
  },
  {
   "cell_type": "code",
   "execution_count": null,
   "metadata": {},
   "outputs": [],
   "source": [
    "data = zip(common, *rep1_counts)\n",
    "df = pd.DataFrame(data, columns= ['Sequence'] + rep1_labels)"
   ]
  },
  {
   "cell_type": "markdown",
   "metadata": {},
   "source": [
    "Calculate fractional counts to normalize for number of reads present in the sample."
   ]
  },
  {
   "cell_type": "code",
   "execution_count": null,
   "metadata": {},
   "outputs": [],
   "source": [
    "def add_fractions(samples):\n",
    "  for sample in samples:\n",
    "    df[f'{sample}_fraction'] = df[sample] / sum(df[sample])\n",
    "\n",
    "add_fractions(rep1_labels)"
   ]
  },
  {
   "cell_type": "markdown",
   "metadata": {},
   "source": [
    "Calculate gibson assembly efficiency for each library preparation method."
   ]
  },
  {
   "cell_type": "code",
   "execution_count": null,
   "metadata": {},
   "outputs": [],
   "source": [
    "df['PCR_efficiency'] = df['small_assembled_PCR_1_fraction'] / df['small_input_PCR_1_fraction']\n",
    "df['LIG_efficiency'] = df['small_assembled_LIG_1_fraction'] / df['small_input_LIG_1_fraction']"
   ]
  },
  {
   "cell_type": "markdown",
   "metadata": {},
   "source": [
    "Look at correlation between library preparation methods."
   ]
  },
  {
   "cell_type": "code",
   "execution_count": null,
   "metadata": {},
   "outputs": [],
   "source": [
    "df.plot.scatter(x='small_assembled_PCR_1_fraction', y='small_assembled_LIG_1_fraction')"
   ]
  },
  {
   "cell_type": "code",
   "execution_count": null,
   "metadata": {},
   "outputs": [],
   "source": [
    "df['small_assembled_PCR_1_fraction'].corr(df['small_assembled_LIG_1_fraction'])"
   ]
  },
  {
   "cell_type": "code",
   "execution_count": null,
   "metadata": {},
   "outputs": [],
   "source": [
    "df.plot.scatter(x='small_input_PCR_1_fraction', y='small_input_LIG_1_fraction')"
   ]
  },
  {
   "cell_type": "code",
   "execution_count": null,
   "metadata": {},
   "outputs": [],
   "source": [
    "df['small_input_PCR_1_fraction'].corr(df['small_input_LIG_1_fraction'])"
   ]
  },
  {
   "cell_type": "code",
   "execution_count": null,
   "metadata": {},
   "outputs": [],
   "source": [
    "df['PCR_efficiency'].hist(bins=100)"
   ]
  },
  {
   "cell_type": "code",
   "execution_count": null,
   "metadata": {},
   "outputs": [],
   "source": [
    "df['LIG_efficiency'].hist(bins=100)"
   ]
  },
  {
   "cell_type": "markdown",
   "metadata": {},
   "source": [
    "Look at correlation of gibson efficiency between library prep methods."
   ]
  },
  {
   "cell_type": "code",
   "execution_count": null,
   "metadata": {},
   "outputs": [],
   "source": [
    "df['PCR_efficiency'].corr(df['LIG_efficiency'])"
   ]
  },
  {
   "cell_type": "code",
   "execution_count": null,
   "metadata": {},
   "outputs": [],
   "source": [
    "df.plot.scatter(x='PCR_efficiency', y='LIG_efficiency')"
   ]
  }
 ],
 "metadata": {
  "kernelspec": {
   "display_name": "Python 3.10.4 64-bit",
   "language": "python",
   "name": "python3"
  },
  "language_info": {
   "codemirror_mode": {
    "name": "ipython",
    "version": 3
   },
   "file_extension": ".py",
   "mimetype": "text/x-python",
   "name": "python",
   "nbconvert_exporter": "python",
   "pygments_lexer": "ipython3",
   "version": "3.10.4"
  },
  "orig_nbformat": 4,
  "vscode": {
   "interpreter": {
    "hash": "fa7c27dc793df5be2edaadabdf154ce9b78714d52aa15f6b4e8ee8c3cd646d7f"
   }
  }
 },
 "nbformat": 4,
 "nbformat_minor": 2
}
