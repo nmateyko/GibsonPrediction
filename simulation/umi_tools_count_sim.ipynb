{
 "cells": [
  {
   "cell_type": "code",
   "execution_count": null,
   "metadata": {},
   "outputs": [],
   "source": [
    "%matplotlib inline\n",
    "\n",
    "import random\n",
    "import numpy as np\n",
    "import matplotlib.pyplot as plt\n",
    "from collections import Counter\n",
    "from umi_tools import UMIClusterer\n"
   ]
  },
  {
   "cell_type": "markdown",
   "metadata": {},
   "source": [
    "Define a function that simulates sequence amplification. Start with a list of random sequences. Each sequence gets an \"intrinsic\" bias for amplification. Within each group of descendent sequences, each sequence has random probability of getting duplicated at each cycle, which is biased by the intrinsic bias for amplification. At each duplication, there is a constant mutation rate. "
   ]
  },
  {
   "cell_type": "code",
   "execution_count": null,
   "metadata": {},
   "outputs": [],
   "source": [
    "def mutated_sequence(seq, mut_rate):\n",
    "  mut_seq = []\n",
    "  for base in seq:\n",
    "    if random.random() <= mut_rate:\n",
    "      mut_seq.append(random.choice(['A', 'C', 'G', 'T']))\n",
    "    else:\n",
    "      mut_seq.append(base)\n",
    "  return \"\".join(mut_seq)\n",
    "\n",
    "def amplify_library(size, length, cycles, bias_mean, bias_sigma, dup_mean, dup_sigma, mut_rate):\n",
    "  starting_seqs = [\"\".join(random.choices(['A', 'C', 'G', 'T'], k=length)) for i in range(size)]\n",
    "  biases = np.random.normal(bias_mean, bias_sigma, size)\n",
    "  amplified_seqs = [[seq] for seq in starting_seqs]\n",
    "\n",
    "  for i in range(cycles):\n",
    "    prev_seqs = amplified_seqs\n",
    "    amplified_seqs = []\n",
    "    for seq_group, bias in zip(prev_seqs, biases):\n",
    "      amplified_group = []\n",
    "      for seq in seq_group:\n",
    "        amplified_group.append(seq)\n",
    "        p = np.random.normal(dup_mean, dup_sigma) + bias\n",
    "        if random.random() <= p:\n",
    "          amplified_group.append(mutated_sequence(seq, mut_rate))\n",
    "      amplified_seqs.append(amplified_group)\n",
    "\n",
    "  amplified_counts = {seq: Counter(seq_group) for seq, seq_group in zip(starting_seqs, amplified_seqs)}\n",
    "  \n",
    "  return amplified_counts\n",
    "\n"
   ]
  },
  {
   "cell_type": "markdown",
   "metadata": {},
   "source": [
    "Test output of function for different parameters."
   ]
  },
  {
   "cell_type": "code",
   "execution_count": null,
   "metadata": {},
   "outputs": [],
   "source": [
    "amplified = amplify_library(size=30000, length=10, cycles=8, bias_mean=0, bias_sigma=0.05, dup_mean=0.5, dup_sigma=0.05, mut_rate=0.005)\n",
    "unique_counts = [amplified[seq].total() for seq in amplified]\n",
    "plt.hist(unique_counts, bins=range(max(unique_counts)))\n",
    "plt.show()"
   ]
  },
  {
   "cell_type": "markdown",
   "metadata": {},
   "source": [
    "Make sure `amplify_library` is outputting something that makes sense."
   ]
  },
  {
   "cell_type": "code",
   "execution_count": null,
   "metadata": {},
   "outputs": [],
   "source": [
    "for i, seq in enumerate(amplified):\n",
    "  if i < 10:\n",
    "    print(f'{seq}: {amplified[seq]}')"
   ]
  },
  {
   "cell_type": "markdown",
   "metadata": {},
   "source": [
    "Test converting the dictionary of `Counter`s to a single counter object with all observed sequences (summing all counter objects took forever for some reason, so turn into a list and then create a `Counter` from this list instead)."
   ]
  },
  {
   "cell_type": "code",
   "execution_count": null,
   "metadata": {},
   "outputs": [],
   "source": [
    "all_seqs = [seq for seq_group in amplified.values() for seq in seq_group.elements()]\n",
    "all_seqs_counts = Counter(all_seqs) \n",
    "for i, seq in enumerate(amplified):\n",
    "  if i < 10:\n",
    "    print(f'{seq}: {amplified[seq][seq] :>3} {all_seqs_counts[seq] :>3}')"
   ]
  },
  {
   "cell_type": "markdown",
   "metadata": {},
   "source": [
    "Define consensus function for comparing consensus with frequency."
   ]
  },
  {
   "cell_type": "code",
   "execution_count": null,
   "metadata": {},
   "outputs": [],
   "source": [
    "# Ties are broken by the base that was present in the first sequence, which should\n",
    "# be the most frequent sequence if using the output of UMIClusterer.\n",
    "def get_consensus(seqs):\n",
    "  consensus = []\n",
    "  for bases in zip(*seqs):\n",
    "    base_counter = Counter(bases)\n",
    "    consensus.append(base_counter.most_common(1)[0][0])\n",
    "  return \"\".join(consensus)\n",
    "\n",
    "get_consensus(['ACGT', 'ACTG', 'TGCA'])"
   ]
  },
  {
   "cell_type": "markdown",
   "metadata": {},
   "source": [
    "Use umi_tools to cluster the sequences and see if the output matches the expected values for different clustering parameters."
   ]
  },
  {
   "cell_type": "code",
   "execution_count": null,
   "metadata": {},
   "outputs": [],
   "source": [
    "# Takes a dict of Counters (amplify_library output) as input, and returns the same data structure as output.\n",
    "# The key for each counter in the output is either the sequence with highest frequency in the cluster (consensus=False)\n",
    "# or the consensus sequence for the cluster (consensus=True)\n",
    "def cluster_seqs(seqs, method, threshold, consensus=False):\n",
    "  all_seqs = [seq.encode() for seq_group in seqs.values() for seq in seq_group.elements()]\n",
    "  all_seqs_counts = Counter(all_seqs) \n",
    "  clusterer = UMIClusterer(cluster_method=method)\n",
    "  clustered = clusterer(all_seqs_counts, threshold=threshold)\n",
    "  \n",
    "  cluster_counts = {}\n",
    "\n",
    "  for cluster in clustered:\n",
    "    cluster_seqs = []\n",
    "    for seq in cluster:\n",
    "      cluster_seqs.extend([seq.decode()] * all_seqs_counts[seq])\n",
    "    cluster_counter = Counter(cluster_seqs)\n",
    "\n",
    "    if consensus:\n",
    "      cluster_counts[get_consensus(cluster_seqs)] = cluster_counter\n",
    "    else:\n",
    "      cluster_counts[cluster[0].decode()] = cluster_counter\n",
    "\n",
    "  return cluster_counts"
   ]
  },
  {
   "cell_type": "markdown",
   "metadata": {},
   "source": [
    "Test `cluster_seqs` on simulated data. Try with low mutation rate and long sequences first to show that `cluster_seqs` is working properly."
   ]
  },
  {
   "cell_type": "code",
   "execution_count": null,
   "metadata": {},
   "outputs": [],
   "source": [
    "amplified = amplify_library(size=3000, length=20, cycles=8, bias_mean=0, bias_sigma=0.05, dup_mean=0.5, dup_sigma=0.05, mut_rate=0.001)\n",
    "clustered = cluster_seqs(amplified, 'directional', 3)\n",
    "\n",
    "for i, seq in enumerate(amplified):\n",
    "  if i < 10:\n",
    "    print(f'Original : {amplified[seq]}')\n",
    "    try:\n",
    "      print(f'Clustered: {clustered[seq]}')\n",
    "    except KeyError:\n",
    "      print(f'{seq} not in clustered seqs')\n"
   ]
  },
  {
   "cell_type": "markdown",
   "metadata": {},
   "source": [
    "Try again with shorter sequences and higher mutation rate."
   ]
  },
  {
   "cell_type": "code",
   "execution_count": null,
   "metadata": {},
   "outputs": [],
   "source": [
    "amplified = amplify_library(size=3000, length=12, cycles=8, bias_mean=0, bias_sigma=0.05, dup_mean=0.5, dup_sigma=0.05, mut_rate=0.01)\n",
    "clustered = cluster_seqs(amplified, 'directional', 3)\n",
    "\n",
    "for i, seq in enumerate(amplified):\n",
    "  if i < 10:\n",
    "    print(f'Original : {amplified[seq]}')\n",
    "    try:\n",
    "      print(f'Clustered: {clustered[seq]}')\n",
    "    except KeyError:\n",
    "      print(f'{seq} not in clustered seqs')"
   ]
  }
 ],
 "metadata": {
  "kernelspec": {
   "display_name": "Python 3 (ipykernel)",
   "language": "python",
   "name": "python3"
  },
  "language_info": {
   "codemirror_mode": {
    "name": "ipython",
    "version": 3
   },
   "file_extension": ".py",
   "mimetype": "text/x-python",
   "name": "python",
   "nbconvert_exporter": "python",
   "pygments_lexer": "ipython3",
   "version": "3.10.4"
  },
  "orig_nbformat": 4,
  "vscode": {
   "interpreter": {
    "hash": "fa7c27dc793df5be2edaadabdf154ce9b78714d52aa15f6b4e8ee8c3cd646d7f"
   }
  }
 },
 "nbformat": 4,
 "nbformat_minor": 2
}
