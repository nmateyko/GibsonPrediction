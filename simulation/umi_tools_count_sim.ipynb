{
 "cells": [
  {
   "cell_type": "code",
   "execution_count": null,
   "metadata": {},
   "outputs": [],
   "source": [
    "%matplotlib inline\n",
    "\n",
    "import random\n",
    "import numpy as np\n",
    "import matplotlib.pyplot as plt\n",
    "from collections import Counter\n",
    "from umi_tools import UMIClusterer\n",
    "from simulation_tools import *\n"
   ]
  },
  {
   "cell_type": "markdown",
   "metadata": {},
   "source": [
    "Make simulated library."
   ]
  },
  {
   "cell_type": "code",
   "execution_count": null,
   "metadata": {},
   "outputs": [],
   "source": [
    "amplified = amplify_library(unique_seqs=30000, length=30, sample_size=900000, cycles=8, bias_mean=0, bias_sigma=0.1, dup_mean=0.8, dup_sigma=0.05, mut_rate=0.0001, error_rate=0.001)\n",
    "amplified_expanded = [seq for seq_group in amplified.values() for seq in seq_group.elements()]\n",
    "# print([amplified[i] for i in itertools.islice(amplified, 5)])\n",
    "# print(amplified_expanded[:20])"
   ]
  },
  {
   "cell_type": "markdown",
   "metadata": {},
   "source": [
    "Check library qualities."
   ]
  },
  {
   "cell_type": "code",
   "execution_count": null,
   "metadata": {},
   "outputs": [],
   "source": [
    "print(f'Total sequences: {len(amplified_expanded)}')\n",
    "unique_per_cluster = [len(list(amplified[center])) for center in amplified]\n",
    "print(f'Number of clusters with no sequences: {sum([unique == 0 for unique in unique_per_cluster])}')\n",
    "cluster_sizes = [cluster.total() for cluster in amplified.values()]\n",
    "plt.hist(cluster_sizes, bins=range(max(cluster_sizes) + 1))\n",
    "plt.title('Distribution of sequences per cluster')\n",
    "plt.show()\n",
    "plt.hist(unique_per_cluster, bins=range(max(unique_per_cluster) + 1))\n",
    "plt.title('Distribution of unique sequences per cluster')\n",
    "plt.show()"
   ]
  },
  {
   "cell_type": "markdown",
   "metadata": {},
   "source": [
    "Define function to cluster sequences with umi_tools."
   ]
  },
  {
   "cell_type": "code",
   "execution_count": null,
   "metadata": {},
   "outputs": [],
   "source": [
    "# Takes a dict of Counters (amplify_library output) as input, and returns the same data structure as output.\n",
    "# The key for each counter in the output is either the sequence with highest frequency in the cluster (consensus=False)\n",
    "# or the consensus sequence for the cluster (consensus=True)\n",
    "def cluster_seqs(seqs, method, threshold, consensus=False):\n",
    "  all_seqs = [seq.encode() for seq_group in seqs.values() for seq in seq_group.elements()]\n",
    "  all_seqs_counts = Counter(all_seqs) \n",
    "  clusterer = UMIClusterer(cluster_method=method)\n",
    "  clustered = clusterer(all_seqs_counts, threshold=threshold)\n",
    "  \n",
    "  cluster_counts = {}\n",
    "\n",
    "  for cluster in clustered:\n",
    "    cluster_seqs = []\n",
    "    for seq in cluster:\n",
    "      cluster_seqs.extend([seq.decode()] * all_seqs_counts[seq])\n",
    "    cluster_counter = Counter(cluster_seqs)\n",
    "\n",
    "    if consensus:\n",
    "      cluster_counts[get_consensus(cluster_seqs)] = cluster_counter\n",
    "    else:\n",
    "      cluster_counts[cluster[0].decode()] = cluster_counter\n",
    "\n",
    "  return cluster_counts"
   ]
  },
  {
   "cell_type": "markdown",
   "metadata": {},
   "source": [
    "Use `cluster_seqs` on simulated data."
   ]
  },
  {
   "cell_type": "code",
   "execution_count": null,
   "metadata": {},
   "outputs": [],
   "source": [
    "clustered = cluster_seqs(amplified, 'cluster', 6)"
   ]
  },
  {
   "cell_type": "markdown",
   "metadata": {},
   "source": [
    "Compare true counts to sequenced counts."
   ]
  },
  {
   "cell_type": "code",
   "execution_count": null,
   "metadata": {},
   "outputs": [],
   "source": [
    "diff, not_found = compare_counter_dicts(amplified, clustered)\n",
    "print(len(not_found))\n",
    "print([i for i in diff if i != 1.0])"
   ]
  },
  {
   "cell_type": "code",
   "execution_count": null,
   "metadata": {},
   "outputs": [],
   "source": [
    "wrong_center_true_counts = {}\n",
    "wrong_center_cluster_counts = {}\n",
    "dists = []\n",
    "for seq in not_found:\n",
    "  if amplified[seq].total() == 0:\n",
    "    continue\n",
    "  else:\n",
    "    closest, dist = find_closest_match(seq, [seq for seq in clustered], hamming_distance)\n",
    "    dists.append(dist)\n",
    "    wrong_center_true_counts[seq] = amplified[seq]\n",
    "    wrong_center_cluster_counts[seq] = clustered[closest]"
   ]
  },
  {
   "cell_type": "code",
   "execution_count": null,
   "metadata": {},
   "outputs": [],
   "source": [
    "print(Counter(dists))\n",
    "diff, not_found = compare_counter_dicts(wrong_center_true_counts, wrong_center_cluster_counts)\n",
    "print(len(not_found))\n",
    "print([i for i in diff if i != 1.0])"
   ]
  }
 ],
 "metadata": {
  "kernelspec": {
   "display_name": "Python 3 (ipykernel)",
   "language": "python",
   "name": "python3"
  },
  "language_info": {
   "codemirror_mode": {
    "name": "ipython",
    "version": 3
   },
   "file_extension": ".py",
   "mimetype": "text/x-python",
   "name": "python",
   "nbconvert_exporter": "python",
   "pygments_lexer": "ipython3",
   "version": "3.10.4"
  },
  "orig_nbformat": 4,
  "vscode": {
   "interpreter": {
    "hash": "fa7c27dc793df5be2edaadabdf154ce9b78714d52aa15f6b4e8ee8c3cd646d7f"
   }
  }
 },
 "nbformat": 4,
 "nbformat_minor": 2
}
