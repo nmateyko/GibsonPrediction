{
 "cells": [
  {
   "cell_type": "code",
   "execution_count": null,
   "metadata": {},
   "outputs": [],
   "source": [
    "%matplotlib inline\n",
    "\n",
    "import itertools\n",
    "import csv\n",
    "import matplotlib.pyplot as plt\n",
    "from collections import Counter\n",
    "from simulation_tools import *"
   ]
  },
  {
   "cell_type": "markdown",
   "metadata": {},
   "source": [
    "Make simulated library."
   ]
  },
  {
   "cell_type": "code",
   "execution_count": null,
   "metadata": {},
   "outputs": [],
   "source": [
    "amplified = amplify_library(unique_seqs=300000, length=30, sample_size=9000000, cycles=8, bias_mean=0, bias_sigma=0.1, dup_mean=0.8, dup_sigma=0.05, mut_rate=0.0001, error_rate=0.001)\n",
    "amplified_expanded = [seq for seq_group in amplified.values() for seq in seq_group.elements()]\n",
    "# print([amplified[i] for i in itertools.islice(amplified, 5)])\n",
    "# print(amplified_expanded[:20])"
   ]
  },
  {
   "cell_type": "markdown",
   "metadata": {},
   "source": [
    "Check library qualities."
   ]
  },
  {
   "cell_type": "code",
   "execution_count": null,
   "metadata": {},
   "outputs": [],
   "source": [
    "print(f'Total sequences: {len(amplified_expanded)}')\n",
    "unique_per_cluster = [len(list(amplified[center])) for center in amplified]\n",
    "print(f'Number of clusters with no sequences: {sum([unique == 0 for unique in unique_per_cluster])}')\n",
    "cluster_sizes = [cluster.total() for cluster in amplified.values()]\n",
    "plt.hist(cluster_sizes, bins=range(max(cluster_sizes) + 1))\n",
    "plt.title('Distribution of sequences per cluster')\n",
    "plt.show()\n",
    "plt.hist(unique_per_cluster, bins=range(max(unique_per_cluster) + 1))\n",
    "plt.title('Distribution of unique sequences per cluster')\n",
    "plt.show()"
   ]
  },
  {
   "cell_type": "markdown",
   "metadata": {},
   "source": [
    "Save as csv so it can be run through bartender. "
   ]
  },
  {
   "cell_type": "code",
   "execution_count": null,
   "metadata": {},
   "outputs": [],
   "source": [
    "# create two columns which bartender expects\n",
    "amplified_expanded_cols = [f'{seq},{i}' for i, seq in enumerate(amplified_expanded)]\n",
    "with open('bartender_data/bartender_test_seqs.txt', 'w') as f:\n",
    "  f.write('\\n'.join(amplified_expanded_cols))\n",
    "\n",
    "# ! head bartender_test_seqs.txt"
   ]
  },
  {
   "cell_type": "markdown",
   "metadata": {},
   "source": [
    "Run sequences through bartender ."
   ]
  },
  {
   "cell_type": "code",
   "execution_count": null,
   "metadata": {},
   "outputs": [],
   "source": [
    "! bartender_single_com -f bartender_data/bartender_test_seqs.txt -o bartender_data/bartender_test_clustered -d 6 -z -1\n",
    "\n",
    "# ! head bartender_data/bartender_test_clustered_barcode.csv\n",
    "# ! head bartender_data/bartender_test_clustered_cluster.csv"
   ]
  },
  {
   "cell_type": "markdown",
   "metadata": {},
   "source": [
    "Read bartender clustering results into format comparable to the original library (dict of counter objects)."
   ]
  },
  {
   "cell_type": "code",
   "execution_count": null,
   "metadata": {},
   "outputs": [],
   "source": [
    "def read_bartender_results(barcode_fp, cluster_fp, consensus=False):\n",
    "  with open(barcode_fp, 'r') as f:\n",
    "    barcode_data = [tuple(line) for line in csv.reader(f)]\n",
    "    del barcode_data[0]\n",
    "  with open(cluster_fp, 'r') as f:\n",
    "    cluster_data = [tuple(line) for line in csv.reader(f)]\n",
    "    del cluster_data[0]\n",
    "\n",
    "  center_counts = {center: int(count) for cluster_id, center, score, count in cluster_data}\n",
    "  cluster_ids = {cluster_id: center for cluster_id, center, score, count in cluster_data}\n",
    "\n",
    "  clusters = {center: [] for cluster_id, center, score, count in cluster_data}\n",
    "\n",
    "  for seq, count, id in barcode_data:\n",
    "    center = cluster_ids[id]\n",
    "    clusters[center].append((seq, int(count)))\n",
    "\n",
    "  if consensus:\n",
    "    clusters_counter = {}\n",
    "    for i, center in enumerate(clusters):\n",
    "      sorted_seqs = sorted(clusters[center], key=lambda x: x[1], reverse=True)\n",
    "      expanded_seqs = [seq_and_count[0] for seq_and_count in sorted_seqs for i in range(seq_and_count[1])]\n",
    "      consensus_center = get_consensus(expanded_seqs)\n",
    "      clusters_counter[consensus_center] = Counter(dict(clusters[center]))\n",
    "      \n",
    "  else:\n",
    "    clusters_counter = {center: Counter(dict(clusters[center])) for center in clusters}\n",
    "\n",
    "  return clusters_counter, center_counts\n"
   ]
  },
  {
   "cell_type": "code",
   "execution_count": null,
   "metadata": {},
   "outputs": [],
   "source": [
    "clusters_counter, center_counts = read_bartender_results('bartender_data/bartender_test_clustered_barcode.csv', 'bartender_data/bartender_test_clustered_cluster.csv')\n",
    "clusters_counter_consensus, center_counts_consensus = read_bartender_results('bartender_data/bartender_test_clustered_barcode.csv', 'bartender_data/bartender_test_clustered_cluster.csv', consensus=True)\n",
    "# print([clusters_counter[i] for i in itertools.islice(clusters_counter, 1)])\n",
    "# print([center_counts[i] for i in itertools.islice(center_counts, 1)])"
   ]
  },
  {
   "cell_type": "markdown",
   "metadata": {},
   "source": [
    "Compare true counts to bartender clustering results."
   ]
  },
  {
   "cell_type": "code",
   "execution_count": null,
   "metadata": {},
   "outputs": [],
   "source": [
    "diff, not_found = compare_counter_dicts(amplified, clusters_counter_consensus)\n",
    "print(len(not_found))\n",
    "print([i for i in diff if i != 1.0])"
   ]
  },
  {
   "cell_type": "code",
   "execution_count": null,
   "metadata": {},
   "outputs": [],
   "source": [
    "diff, not_found = compare_counter_dicts(amplified, clusters_counter)\n",
    "print(len(not_found))\n",
    "print([i for i in diff if i != 1.0])"
   ]
  },
  {
   "cell_type": "code",
   "execution_count": null,
   "metadata": {},
   "outputs": [],
   "source": [
    "wrong_center_true_counts = {}\n",
    "wrong_center_cluster_counts = {}\n",
    "dists = []\n",
    "for seq in not_found:\n",
    "  if amplified[seq].total() == 0:\n",
    "    continue\n",
    "  else:\n",
    "    closest, dist = find_closest_match(seq, [seq for seq in clusters_counter], hamming_distance)\n",
    "    dists.append(dist)\n",
    "    wrong_center_true_counts[seq] = amplified[seq]\n",
    "    wrong_center_cluster_counts[seq] = clusters_counter[closest]\n"
   ]
  },
  {
   "cell_type": "code",
   "execution_count": null,
   "metadata": {},
   "outputs": [],
   "source": [
    "print(Counter(dists))\n",
    "diff, not_found = compare_counter_dicts(wrong_center_true_counts, wrong_center_cluster_counts)\n",
    "print(len(not_found))\n",
    "print([i for i in diff if i != 1.0])"
   ]
  }
 ],
 "metadata": {
  "kernelspec": {
   "display_name": "Python 3 (ipykernel)",
   "language": "python",
   "name": "python3"
  },
  "language_info": {
   "codemirror_mode": {
    "name": "ipython",
    "version": 3
   },
   "file_extension": ".py",
   "mimetype": "text/x-python",
   "name": "python",
   "nbconvert_exporter": "python",
   "pygments_lexer": "ipython3",
   "version": "3.10.4"
  },
  "orig_nbformat": 4,
  "vscode": {
   "interpreter": {
    "hash": "fa7c27dc793df5be2edaadabdf154ce9b78714d52aa15f6b4e8ee8c3cd646d7f"
   }
  }
 },
 "nbformat": 4,
 "nbformat_minor": 2
}
