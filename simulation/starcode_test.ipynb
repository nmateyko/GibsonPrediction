{
 "cells": [
  {
   "cell_type": "code",
   "execution_count": null,
   "metadata": {},
   "outputs": [],
   "source": [
    "%matplotlib inline\n",
    "\n",
    "import itertools\n",
    "import csv\n",
    "import matplotlib.pyplot as plt\n",
    "from collections import Counter\n",
    "from simulation_tools import *"
   ]
  },
  {
   "cell_type": "markdown",
   "metadata": {},
   "source": [
    "Make simulated library."
   ]
  },
  {
   "cell_type": "code",
   "execution_count": null,
   "metadata": {},
   "outputs": [],
   "source": [
    "amplified = amplify_library(unique_seqs=300000, length=30, sample_size=9000000, cycles=8, bias_mean=0, bias_sigma=0.1, dup_mean=0.8, dup_sigma=0.05, mut_rate=0.0001, error_rate=0.005)\n",
    "amplified_expanded = [seq for seq_group in amplified.values() for seq in seq_group.elements()]\n",
    "# print([amplified[i] for i in itertools.islice(amplified, 5)])\n",
    "# print(amplified_expanded[:20])"
   ]
  },
  {
   "cell_type": "markdown",
   "metadata": {},
   "source": [
    "Check library qualities."
   ]
  },
  {
   "cell_type": "code",
   "execution_count": null,
   "metadata": {},
   "outputs": [],
   "source": [
    "print(f'Total sequences: {len(amplified_expanded)}')\n",
    "print(f'Unique sequences: {len(set(amplified_expanded))}')\n",
    "unique_per_cluster = [len(list(amplified[center])) for center in amplified]\n",
    "print(f'Number of clusters with no sequences: {sum([unique == 0 for unique in unique_per_cluster])}')\n",
    "cluster_sizes = [cluster.total() for cluster in amplified.values()]\n",
    "plt.hist(cluster_sizes, bins=range(max(cluster_sizes) + 1))\n",
    "plt.title('Distribution of sequences per cluster')\n",
    "plt.show()\n",
    "plt.hist(unique_per_cluster, bins=range(max(unique_per_cluster) + 1))\n",
    "plt.title('Distribution of unique sequences per cluster')\n",
    "plt.show()"
   ]
  },
  {
   "cell_type": "markdown",
   "metadata": {},
   "source": [
    "Save as text file so it can be run through starcode. "
   ]
  },
  {
   "cell_type": "code",
   "execution_count": null,
   "metadata": {},
   "outputs": [],
   "source": [
    "with open('starcode_data/starcode_test_seqs.txt', 'w') as f:\n",
    "  f.write('\\n'.join(amplified_expanded))\n",
    "\n",
    "! head starcode_data/starcode_test_seqs.txt"
   ]
  },
  {
   "cell_type": "markdown",
   "metadata": {},
   "source": [
    "Run sequences through starcode."
   ]
  },
  {
   "cell_type": "code",
   "execution_count": null,
   "metadata": {},
   "outputs": [],
   "source": [
    "! starcode -i starcode_data/starcode_test_seqs.txt -o starcode_data/starcode_test_clustered.txt --print-clusters --seq-id -r 2\n",
    "\n",
    "# ! head starcode_data/starcode_test_clustered.txt"
   ]
  },
  {
   "cell_type": "markdown",
   "metadata": {},
   "source": [
    "Read starcode clustering results into format comparable to the original library (dict of counter objects)."
   ]
  },
  {
   "cell_type": "code",
   "execution_count": null,
   "metadata": {},
   "outputs": [],
   "source": [
    "def read_starcode_results(cluster_fp, input_seqs):\n",
    "  with open(cluster_fp, 'r') as f:\n",
    "    cluster_data = [tuple(line) for line in csv.reader(f, delimiter='\\t')]\n",
    "\n",
    "  center_counts = {cluster[0]: int(cluster[1]) for cluster in cluster_data}\n",
    "  cluster_counts = {}\n",
    "  for cluster in cluster_data:\n",
    "    indices = [int(i) for i in cluster[3].split(',')]\n",
    "    seqs = [input_seqs[i - 1] for i in indices] # Sequence IDs start at 1\n",
    "    cluster_counts[cluster[0]] = Counter(seqs)\n",
    "  return center_counts, cluster_counts"
   ]
  },
  {
   "cell_type": "code",
   "execution_count": null,
   "metadata": {},
   "outputs": [],
   "source": [
    "center_counts, cluster_counts = read_starcode_results('starcode_data/starcode_test_clustered.txt', amplified_expanded)"
   ]
  },
  {
   "cell_type": "markdown",
   "metadata": {},
   "source": [
    "Compare true counts to bartender clustering results."
   ]
  },
  {
   "cell_type": "code",
   "execution_count": null,
   "metadata": {},
   "outputs": [],
   "source": [
    "print(f'Total clusters found: {len(center_counts)}')\n",
    "diff, not_found = compare_counter_dicts(amplified, cluster_counts)\n",
    "print(f'Number of true cluster centers not found: {len(not_found)}')\n",
    "cluster_size_change = [i for i in diff if i != 1.0]\n",
    "print(f'Number of clusters with incorrect size: {len(cluster_size_change)}')\n",
    "plt.hist(cluster_size_change)\n",
    "plt.title('Distribution of incorrect clustered/true count ratio')\n",
    "plt.show()"
   ]
  },
  {
   "cell_type": "code",
   "execution_count": null,
   "metadata": {},
   "outputs": [],
   "source": [
    "wrong_center_true_counts = {}\n",
    "wrong_center_cluster_counts = {}\n",
    "dists = []\n",
    "for seq in not_found:\n",
    "  if amplified[seq].total() == 0:\n",
    "    continue\n",
    "  else:\n",
    "    closest, dist = find_closest_match(seq, [seq for seq in cluster_counts], hamming_distance)\n",
    "    dists.append(dist)\n",
    "    wrong_center_true_counts[seq] = amplified[seq]\n",
    "    wrong_center_cluster_counts[seq] = cluster_counts[closest]\n"
   ]
  },
  {
   "cell_type": "code",
   "execution_count": null,
   "metadata": {},
   "outputs": [],
   "source": [
    "print(Counter(dists))\n",
    "diff, not_found = compare_counter_dicts(wrong_center_true_counts, wrong_center_cluster_counts)\n",
    "print(len(not_found))\n",
    "print([i for i in diff if i != 1.0])"
   ]
  }
 ],
 "metadata": {
  "kernelspec": {
   "display_name": "Python 3 (ipykernel)",
   "language": "python",
   "name": "python3"
  },
  "orig_nbformat": 4,
  "vscode": {
   "interpreter": {
    "hash": "fa7c27dc793df5be2edaadabdf154ce9b78714d52aa15f6b4e8ee8c3cd646d7f"
   }
  }
 },
 "nbformat": 4,
 "nbformat_minor": 2
}
